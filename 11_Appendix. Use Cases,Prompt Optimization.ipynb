{
 "cells": [
  {
   "cell_type": "markdown",
   "id": "d72fae4e-f7de-42b7-91ee-bdd0a57ae46c",
   "metadata": {
    "id": "d72fae4e-f7de-42b7-91ee-bdd0a57ae46c"
   },
   "source": [
    "# **Appendix. Use Cases: Prompt Optimization**"
   ]
  },
  {
   "cell_type": "markdown",
   "id": "01ec4359",
   "metadata": {},
   "source": [
    "This chapter, unlike the previous ones, delves into an **advanced version of prompt engineering**, introducing methods for **prompt optimization**. There are various ways to optimize prompts, and among them, we will demonstrate how to use **LangGraph with Solar** to effectively enhance and refine prompts.\n",
    "\n",
    "**LangGraph - A Framework for Prompt Engineering**  \n",
    "\n",
    "The reason for choosing prompt engineering using LangGraph among many advanced techniques is that LangGraph's features enable the integration of a **\"human feedback\"** process during the prompt extraction stage.\n",
    "\n",
    "> LangGraph is a visual framework for structuring and optimizing prompts.  \n",
    "> It maps linguistic elements to functional goals, clarifying how prompt components influence outputs.  \n",
    "> By organizing prompts into nodes (language elements), edges (relationships), and goals (desired outcomes), LangGraph connects linguistic intuition with technical implementation.  "
   ]
  },
  {
   "cell_type": "markdown",
   "id": "7610f1b2",
   "metadata": {},
   "source": [
    "**What You'll Learn in This Appendix**\n",
    "\n",
    "- **The core structure and components of LangGraph**\n",
    "\n",
    "- **How to visualize prompt interactions and their outcomes**\n",
    "\n",
    "- **A practical example of prompt optimization**"
   ]
  },
  {
   "cell_type": "markdown",
   "id": "f317724a",
   "metadata": {},
   "source": [
    "## **Table of Contents**\n",
    "- Use `Ctrl + F` (Windows) or `Cmd + F` (Mac) to locate specific sections by title."
   ]
  },
  {
   "cell_type": "markdown",
   "id": "43d8e867",
   "metadata": {},
   "source": [
    "- **A.1 Prompt Optimization with LangGraph: 5-Step Process with Solar**  \n",
    "  \n",
    "    - A.1.1 Define the Nodes   \n",
    "       \n",
    "  \n",
    "  \n",
    "- **A.2 LangGraph Workflow**  \n",
    "  \n",
    "    - A.2.1 Set up the Graph  \n",
    "\n",
    "    - A.2.2 Visualize the Graph  \n",
    "\n",
    "\n",
    "- **A.3 Example**  \n",
    "  \n",
    "- **A.4 Full Code of Prompt Optimization with LangGraph**  "
   ]
  },
  {
   "cell_type": "markdown",
   "id": "d9c947c3",
   "metadata": {
    "id": "d9c947c3"
   },
   "source": [
    "**Set up**"
   ]
  },
  {
   "cell_type": "code",
   "execution_count": null,
   "id": "9a324088",
   "metadata": {},
   "outputs": [],
   "source": [
    "%%capture\n",
    "!pip install langgraph langchain_core langchain_openai"
   ]
  },
  {
   "cell_type": "code",
   "execution_count": null,
   "id": "23f53f2f",
   "metadata": {},
   "outputs": [
    {
     "name": "stdout",
     "output_type": "stream",
     "text": [
      "Success!\n"
     ]
    }
   ],
   "source": [
    "from langchain_core.prompts import PromptTemplate\n",
    "from langchain_core.output_parsers import StrOutputParser\n",
    "from langchain.output_parsers import RegexParser\n",
    "from langchain_openai import ChatOpenAI\n",
    "import os\n",
    "\n",
    "# Retrieve the UPSTAGE_API_KEY variable from the IPython store\n",
    "%store -r UPSTAGE_API_KEY\n",
    "\n",
    "try:\n",
    "    if UPSTAGE_API_KEY:\n",
    "        print(\"Success!\")\n",
    "except NameError as ne:\n",
    "    print(f\"Since, {ne}\")\n",
    "    print(\"Please, insert your API key.\")\n",
    "    UPSTAGE_API_KEY = input(\"UPSTAGE_API_KEY =\")\n",
    "\n",
    "# Set your API key: \n",
    "# UPSTAGE_API_KEY = \" \" ←- Insert your API key here. "
   ]
  },
  {
   "cell_type": "code",
   "execution_count": null,
   "id": "855829b2",
   "metadata": {},
   "outputs": [],
   "source": [
    "# Initialization\n",
    "def get_llm(model: str =\"solar-pro\", temperature: float=0.0, **kwargs: any)-> ChatOpenAI:\n",
    "    return ChatOpenAI(\n",
    "        api_key=os.environ[\"UPSTAGE_API_KEY\"],\n",
    "        base_url=\"https://api.upstage.ai/v1\",\n",
    "        model=model,\n",
    "        temperature=temperature,\n",
    "        **kwargs\n",
    "    )\n",
    "\n",
    "parser = RegexParser(\n",
    "    regex=r\"revised prompt:\\s*(.+)\",\n",
    "    output_keys=[\"revised_prompt\"]\n",
    ")\n",
    "\n",
    "solar = get_llm()"
   ]
  },
  {
   "cell_type": "markdown",
   "id": "29c4ecaa",
   "metadata": {},
   "source": [
    "**Set up the State**"
   ]
  },
  {
   "cell_type": "code",
   "execution_count": null,
   "id": "da182839",
   "metadata": {},
   "outputs": [],
   "source": [
    "from typing import Annotated, TypedDict\n",
    "import operator  \n",
    "\n",
    "# Set up the GraphState\n",
    "class GraphState(TypedDict):\n",
    "    \"\"\"\n",
    "    A TypedDict class representing the state of the prompt optimization graph.\n",
    "\n",
    "    Attributes:\n",
    "        prompt (Annotated[list, operator.add]): List containing the prompts being optimized\n",
    "        ai_feedback (Annotated[list, operator.add]): List containing AI-generated feedback on prompts\n",
    "        human_feedback (Annotated[list, operator.add]): List containing human feedback on prompts\n",
    "    \"\"\"\n",
    "\n",
    "    prompt: Annotated[list, operator.add]\n",
    "    ai_feedback: Annotated[list, operator.add]\n",
    "    human_feedback: Annotated[list, operator.add]"
   ]
  },
  {
   "cell_type": "markdown",
   "id": "1b83f565",
   "metadata": {},
   "source": [
    "---"
   ]
  },
  {
   "cell_type": "markdown",
   "id": "702ae910",
   "metadata": {},
   "source": [
    "## **A.1 Prompt Optimization with LangGraph: 5-Step Process with Solar** "
   ]
  },
  {
   "cell_type": "markdown",
   "id": "207d8c75",
   "metadata": {},
   "source": [
    "| **Step**       | **Action**                      |\n",
    "|-----------------|---------------------------------|\n",
    "| **① Analyze**   | Analyze the Prompt Given by User |\n",
    "| **② Feedback**  | Human Feedback                 |\n",
    "| **③ Test**      | Test the Prompt                |\n",
    "| **④ Optimize**  | Optimize the Prompt            |\n",
    "| **⑤ Evaluate**  | Evaluate the Prompt            |"
   ]
  },
  {
   "cell_type": "markdown",
   "id": "082af49d",
   "metadata": {
    "id": "082af49d"
   },
   "source": [
    "### **A.1.1 Define the Nodes**"
   ]
  },
  {
   "cell_type": "markdown",
   "metadata": {},
   "source": [
    "- **Step 1: Analyze the Prompt Given by User**"
   ]
  },
  {
   "cell_type": "code",
   "execution_count": null,
   "id": "301856d5",
   "metadata": {},
   "outputs": [
    {
     "name": "stdout",
     "output_type": "stream",
     "text": [
      "\n",
      "\n",
      "\n"
     ]
    }
   ],
   "source": [
    "# 1st node: analyze_prompt\n",
    "def analyze_prompt(state: GraphState, llm: ChatOpenAI=solar) -> GraphState:\n",
    "    \"\"\"\n",
    "    Analyzes the given prompt and revise it for improvement.\n",
    "\n",
    "    Args:\n",
    "        state (GraphState): Current state contains the prompt to analyze\n",
    "        llm (ChatOpenAI): Language model( Solar with temperature: 0.0 ) used to generate feedback and improvements\n",
    "\n",
    "    Returns:\n",
    "        GraphState: Updated state with AI feedback and revised prompt\n",
    "    \"\"\"\n",
    "    latest_prompt = state[\"prompt\"][0]\n",
    "\n",
    "    print(\"[ Here is the user's prompt ]\")\n",
    "    print(latest_prompt)\n",
    "\n",
    "    prompt = PromptTemplate.from_template(\n",
    "        \"\"\"\n",
    "    Your task is to analyze user's prompt. \n",
    "\n",
    "    1. Extract the user's intent. And write down a single word focused on 'action ascription'.\n",
    "    2. Check your output is aligned with the user's intent.   \n",
    "    3. Suggest me some improvements for the prompt. \n",
    "    4. Revise my prompt to ensure it includes two focal elements: examples and ample context within the prompt.\n",
    "    5. Your output should be within 4 sentences. Format: \n",
    "        (1) user's intent:\n",
    "        (2) some improvement:\n",
    "        (3) revised prompt: *don't answer to the user's prompt.\n",
    "        \n",
    "                                          \n",
    "    --------> \n",
    "    User's prompt: \n",
    "    {prompt}\n",
    "    --------> \n",
    "    \"\"\")\n",
    "\n",
    "    chain = prompt | llm | StrOutputParser()\n",
    "\n",
    "    output = chain.invoke({\"prompt\": latest_prompt})\n",
    "    response = f\"Here is the feedback generated by AI: \\n{output}\"\n",
    "\n",
    "    parsed_response = parser.parse(output)\n",
    "    revised_prompt = parsed_response[\"revised_prompt\"]\n",
    "\n",
    "    return {\"prompt\": [revised_prompt],\n",
    "            \"ai_feedback\": [response]}\n",
    "\n",
    "print(\"\\n\\n\")"
   ]
  },
  {
   "cell_type": "markdown",
   "id": "87666192",
   "metadata": {},
   "source": [
    "- **Step 2: Human Feedback**"
   ]
  },
  {
   "cell_type": "code",
   "execution_count": null,
   "id": "899bd2fd",
   "metadata": {},
   "outputs": [
    {
     "name": "stdout",
     "output_type": "stream",
     "text": [
      "\n",
      "\n",
      "\n"
     ]
    }
   ],
   "source": [
    "# 2nd node: human\n",
    "def human_feedback(state: GraphState) -> GraphState:\n",
    "    \"\"\"\n",
    "    Collects feedback from the user.\n",
    "\n",
    "    Args:\n",
    "        state (GraphState): Current state of the graph\n",
    "\n",
    "    Returns:\n",
    "        GraphState: Update state with human feedback\n",
    "    \"\"\"\n",
    "    print(\"[ Here is the proposed prompt ] \\n\", state['prompt'][-1])\n",
    "    user_input = input(\"(Press 'q' or 'quit' to quit)\")\n",
    "\n",
    "    return {\"human_feedback\": [user_input]}\n",
    "\n",
    "print(\"\\n\\n\")"
   ]
  },
  {
   "cell_type": "markdown",
   "id": "1d2b1087",
   "metadata": {},
   "source": [
    "- **Step 3: Test the Prompt**"
   ]
  },
  {
   "cell_type": "code",
   "execution_count": null,
   "id": "4ec0a921",
   "metadata": {},
   "outputs": [
    {
     "name": "stdout",
     "output_type": "stream",
     "text": [
      "\n",
      "\n",
      "\n"
     ]
    }
   ],
   "source": [
    "# 3rd node: test_prompt\n",
    "def test_optimized_prompt(state: GraphState, llm: ChatOpenAI=get_llm(temperature=0.7)) -> GraphState:\n",
    "    \"\"\"\n",
    "    Tests both previous and current prompts, comparing their responses.\n",
    "    \n",
    "    Args:\n",
    "        state (GraphState): Current state containing both prompts\n",
    "        llm (ChatOpenAI): Language model( Solar with temperature: 0.7 ) used to generate feedback\n",
    "        \n",
    "    Returns:\n",
    "        GraphState: Updated state with comparison of responses\n",
    "    \"\"\"\n",
    "    previous_prompt = state[\"prompt\"][-2]  # Get previous prompt\n",
    "    current_prompt = state[\"prompt\"][-1]  # Get latest prompt\n",
    "    \n",
    "    # Get responses for both prompts\n",
    "    previous_response = llm.invoke(previous_prompt)\n",
    "    revised_response = llm.invoke(current_prompt)\n",
    "    \n",
    "    # Compare the responses\n",
    "    comparison_prompt = f\"\"\"\n",
    "    Compare these two responses:\n",
    "    \n",
    "    PREVIOUS PROMPT: {previous_prompt}\n",
    "    PREVIOUS RESPONSE: {previous_response.content}\n",
    "    \n",
    "    REVISED PROMPT: {current_prompt}\n",
    "    REVISED RESPONSE: {revised_response.content}\n",
    "    \n",
    "    Please analyze:\n",
    "    1. Key differences in responses. \n",
    "    2. Summarize the differences within 1 sentence.  \n",
    "    3. tell me which one is better: Previous or Revised?  \n",
    "    \"\"\"\n",
    "\n",
    "    analysis = llm.invoke(comparison_prompt)\n",
    "    \n",
    "    return {\"ai_feedback\": [\n",
    "        f\"Previous Prompt Response:\\n{previous_response.content}\\n\\n\"\n",
    "        f\"Revised Prompt Response:\\n{revised_response.content}\\n\\n\"\n",
    "        f\"Comparative Analysis:\\n{analysis.content}\"\n",
    "    ]}\n",
    "\n",
    "print(\"\\n\\n\")"
   ]
  },
  {
   "cell_type": "markdown",
   "id": "9389c700",
   "metadata": {},
   "source": [
    "- **Step 4: Optimize the Prompt**"
   ]
  },
  {
   "cell_type": "code",
   "execution_count": null,
   "id": "96be7a71",
   "metadata": {},
   "outputs": [
    {
     "name": "stdout",
     "output_type": "stream",
     "text": [
      "\n",
      "\n",
      "\n"
     ]
    }
   ],
   "source": [
    "# 4th node: optimize_prompt\n",
    "def optimize_prompt(state: GraphState, llm: ChatOpenAI=solar) -> GraphState:\n",
    "    \"\"\"\n",
    "    Optimizes the prompt based on your feedback and the user's feedback. \n",
    "\n",
    "    Args:\n",
    "        state (GraphState): Current state contains the prompt, AI feedback(your feedback), and the user's feedback \n",
    "        llm (ChatOpenAI): Language model( Solar with temperature: 0.0 ) used to optimize prompt based on feedback\n",
    "\n",
    "    Returns:\n",
    "        GraphState: Updated state with optimized prompt\n",
    "    \"\"\"\n",
    "    latest_prompt = state[\"prompt\"][-1]\n",
    "    latest_ai_feedback = state[\"ai_feedback\"][-1]\n",
    "    latest_human_feedback = state[\"human_feedback\"][-1]\n",
    "\n",
    "    if latest_human_feedback == \"q\" or latest_human_feedback == \"quit\":\n",
    "        latest_human_feedback = \"\"\n",
    "        return {\"prompt\": [latest_prompt]}\n",
    "\n",
    "    prompt = PromptTemplate.from_template(\n",
    "    \"\"\"\n",
    "    Your task is to optimize the user's prompt. Follow these instructions: \n",
    "\n",
    "    Here is the prompt before improvement:\n",
    "    {prompt}\n",
    "\n",
    "    Here is previous feedback generated by AI:\n",
    "    {ai_feedback}\n",
    "\n",
    "    Here is Human's follow-up feedback:\n",
    "    {human_feedback}\n",
    "\n",
    "    Write down the improved prompt. Only present the revised prompt without any additional comments. \n",
    "    \"\"\"\n",
    "    )\n",
    "\n",
    "    chain = prompt | llm | StrOutputParser()\n",
    "\n",
    "    response = chain.invoke(\n",
    "        {\n",
    "            \"prompt\": latest_prompt,\n",
    "            \"ai_feedback\": latest_ai_feedback,\n",
    "            \"human_feedback\": latest_human_feedback,\n",
    "        }\n",
    "    )\n",
    "    return {\"prompt\": [response]}\n",
    "\n",
    "print(\"\\n\\n\")"
   ]
  },
  {
   "cell_type": "markdown",
   "id": "7d08418d",
   "metadata": {},
   "source": [
    "- **Step 5: Evaluate the Prompt**"
   ]
  },
  {
   "cell_type": "code",
   "execution_count": null,
   "id": "3fb961ee",
   "metadata": {
    "id": "3fb961ee"
   },
   "outputs": [
    {
     "name": "stdout",
     "output_type": "stream",
     "text": [
      "\n",
      "\n",
      "\n"
     ]
    }
   ],
   "source": [
    "# 5th node: evaluate_prompt\n",
    "def evaluate_prompt(state: GraphState, llm: ChatOpenAI=solar) -> GraphState:\n",
    "    \"\"\"\n",
    "    Evaluates the optimized prompt by comparing it to the previous prompt.\n",
    "\n",
    "    Args:\n",
    "        state (GraphState): Current state contains the previous prompt and the optimized prompt\n",
    "        llm (ChatOpenAI): Language model( Solar with temperature: 0.0 ) used to evaluate the optimized prompt\n",
    "\n",
    "    Returns:\n",
    "        GraphState: Updated state with evaluation feedback\n",
    "    \"\"\"\n",
    "    before_optimization_prompt = state[\"prompt\"][-2]\n",
    "    improved_prompt = state[\"prompt\"][-1]\n",
    "\n",
    "    prompt = PromptTemplate.from_template(\n",
    "        \"\"\"\n",
    "    Now, let's evaluate the prompt. Follow these instructions: \n",
    "    - 1. Comparision : read two prompts carefully and think about the difference between them.  \n",
    "    previous prompt: {before_optimization_prompt}\n",
    "    revised prompt: {improved_prompt}\n",
    "\n",
    "    - 2. Scoring: Give a score between 0 and 1 for 4 criteria. Show your the total score at the end. \n",
    "    If yes add 1, else add 0.   \n",
    "      - 2.1) Is the revised prompt aligned with the user's intent? (yes or no)\n",
    "      - 2.2) Is the revised prompt able to generate a better output than the previous prompt? (yes or no)\n",
    "      - 2.3) Is the revised prompt well-structured? (yes or no)\n",
    "      - 2.4) Is the revised prompt of flexible length? (yes or no) \n",
    "    Sum up your score for each criterion: [ ]\n",
    "       \n",
    "    - 3. Writedown the justification for your score within 2 sentences. \n",
    "\n",
    "    \"\"\"\n",
    "    )\n",
    "\n",
    "    chain = prompt | llm | StrOutputParser()\n",
    "\n",
    "    response = chain.invoke(\n",
    "        {\n",
    "            \"before_optimization_prompt\": before_optimization_prompt,\n",
    "            \"improved_prompt\": improved_prompt,\n",
    "        }\n",
    "    )\n",
    "    return {\"ai_feedback\": [response]}\n",
    "\n",
    "# An additional path: CONTINUE \n",
    "def should_continue(state: GraphState) -> str:\n",
    "    \"\"\"\n",
    "    Determines whether to continue the optimization loop based on the user's feedback.\n",
    "\n",
    "    Args:\n",
    "        state (GraphState): Current state containing the user's feedback\n",
    "\n",
    "    Returns:\n",
    "        str: \"FINISH\" if the user wants to quit, \"CONTINUE\" otherwise\n",
    "    \"\"\"\n",
    "    latest_human_feedback = state[\"human_feedback\"][-1].strip()\n",
    "    if latest_human_feedback == \"q\" or latest_human_feedback == \"quit\":\n",
    "        return \"FINISH\"\n",
    "    else:\n",
    "        return \"CONTINUE\"\n",
    "    \n",
    "print(\"\\n\\n\")"
   ]
  },
  {
   "cell_type": "markdown",
   "id": "3dcb3df2",
   "metadata": {},
   "source": [
    "---"
   ]
  },
  {
   "cell_type": "markdown",
   "id": "2fe1379d",
   "metadata": {},
   "source": [
    "## **A.2 LangGraph Workflow**"
   ]
  },
  {
   "cell_type": "markdown",
   "id": "b232214f",
   "metadata": {},
   "source": [
    "### **A.2.1 Set up the Graph**"
   ]
  },
  {
   "cell_type": "markdown",
   "id": "6c852891",
   "metadata": {
    "id": "6c852891"
   },
   "source": [
    "This code sets up a LangGraph workflow for prompt optimization with the following components:"
   ]
  },
  {
   "cell_type": "markdown",
   "id": "bb06d485",
   "metadata": {},
   "source": [
    "**1. Memory Management**:\n",
    "\n",
    "   - Uses **`MemorySaver`** for maintaining state across workflow steps\n",
    "\n",
    "   - Creates a **`StateGraph`** instance for managing prompt optimization states"
   ]
  },
  {
   "cell_type": "code",
   "execution_count": null,
   "id": "56b16fe6",
   "metadata": {},
   "outputs": [],
   "source": [
    "from langgraph.checkpoint.memory import MemorySaver\n",
    "from langgraph.graph import StateGraph, END\n",
    "\n",
    "memory = MemorySaver()\n",
    "workflow = StateGraph(GraphState)"
   ]
  },
  {
   "cell_type": "markdown",
   "id": "2098f38b",
   "metadata": {},
   "source": [
    "<br>  \n",
    "\n",
    "**2. Node Configuration**:\n",
    "\n",
    "   - `analyze_prompt`: Analyzes the initial prompt\n",
    "\n",
    "   - `human`: Handles human feedback loop\n",
    "\n",
    "   - `optimize_prompt`: Performs prompt optimization\n",
    "\n",
    "   - `evaluate_prompt`: Evaluates optimization results"
   ]
  },
  {
   "cell_type": "code",
   "execution_count": null,
   "id": "07268d96",
   "metadata": {},
   "outputs": [
    {
     "data": {
      "text/plain": [
       "<langgraph.graph.state.StateGraph at 0x10eedefc0>"
      ]
     },
     "execution_count": null,
     "metadata": {},
     "output_type": "execute_result"
    }
   ],
   "source": [
    "workflow.add_node(\"analyze_prompt\", analyze_prompt)\n",
    "workflow.add_node(\"human\", human_feedback)\n",
    "workflow.add_node(\"test_prompt\", test_optimized_prompt)\n",
    "workflow.add_node(\"optimize_prompt\", optimize_prompt)\n",
    "workflow.add_node(\"evaluate_prompt\", evaluate_prompt)"
   ]
  },
  {
   "cell_type": "markdown",
   "id": "e9f6c597",
   "metadata": {},
   "source": [
    "<br>  \n",
    "\n",
    "**3. Edge Configuration**:\n",
    "\n",
    "   - **Linear flow** from analyze_prompt to human\n",
    "\n",
    "   - **Conditional branching** from human based on should_continue function\n",
    "\n",
    "   - **Optimization cycle** between optimize_prompt and evaluate_prompt\n",
    "\n",
    "   - Final **feedback loop** back to human"
   ]
  },
  {
   "cell_type": "code",
   "execution_count": null,
   "id": "2b2a5917",
   "metadata": {},
   "outputs": [
    {
     "data": {
      "text/plain": [
       "<langgraph.graph.state.StateGraph at 0x10eedefc0>"
      ]
     },
     "execution_count": null,
     "metadata": {},
     "output_type": "execute_result"
    }
   ],
   "source": [
    "# Add edges for the new flow\n",
    "workflow.add_edge(\"analyze_prompt\", \"human\")\n",
    "workflow.add_edge(\"human\", \"test_prompt\")\n",
    "workflow.add_edge(\"test_prompt\", \"optimize_prompt\")\n",
    "workflow.add_edge(\"optimize_prompt\", \"evaluate_prompt\")\n",
    "workflow.add_conditional_edges(\n",
    "    \"evaluate_prompt\",\n",
    "    should_continue,\n",
    "    {\n",
    "        \"CONTINUE\": \"human\",\n",
    "        \"FINISH\": END\n",
    "    }\n",
    ")"
   ]
  },
  {
   "cell_type": "markdown",
   "id": "af5edaff",
   "metadata": {},
   "source": [
    "<br>  \n",
    "\n",
    "**4. Graph Compilation**:\n",
    "\n",
    "   - Sets analyze_prompt as **entry point**\n",
    "   \n",
    "   - Compiles with memory **checkpointing**"
   ]
  },
  {
   "cell_type": "code",
   "execution_count": null,
   "id": "38943703",
   "metadata": {
    "id": "38943703"
   },
   "outputs": [
    {
     "name": "stdout",
     "output_type": "stream",
     "text": [
      "\n",
      "\n",
      "\n"
     ]
    }
   ],
   "source": [
    "workflow.set_entry_point(\"analyze_prompt\")\n",
    "graph = workflow.compile(checkpointer=memory)\n",
    "\n",
    "print(\"\\n\\n\")"
   ]
  },
  {
   "cell_type": "markdown",
   "id": "58f333c6",
   "metadata": {
    "id": "58f333c6"
   },
   "source": [
    "### **A.2.2 Visualize the Graph**"
   ]
  },
  {
   "cell_type": "code",
   "execution_count": null,
   "id": "acd24831",
   "metadata": {
    "id": "acd24831",
    "outputId": "a8e89b3e-fc7d-4c66-bc83-267dd646d0a5"
   },
   "outputs": [
    {
     "data": {
      "image/png": "[encoded data removed]",
      "text/plain": [
       "<IPython.core.display.Image object>"
      ]
     },
     "metadata": {},
     "output_type": "display_data"
    },
    {
     "name": "stdout",
     "output_type": "stream",
     "text": [
      "\n",
      "\n",
      "\n"
     ]
    }
   ],
   "source": [
    "from IPython.display import Image, display\n",
    "\n",
    "display(Image(graph.get_graph().draw_mermaid_png()))\n",
    "\n",
    "print(\"\\n\\n\")"
   ]
  },
  {
   "cell_type": "markdown",
   "id": "ccd28d7f",
   "metadata": {},
   "source": [
    "---"
   ]
  },
  {
   "cell_type": "markdown",
   "id": "c987b4d6",
   "metadata": {
    "id": "c987b4d6"
   },
   "source": [
    "## **A.3 Example**"
   ]
  },
  {
   "cell_type": "markdown",
   "id": "efba8787",
   "metadata": {},
   "source": [
    "**Example #1: Execute the LangGraph Workflow for Prompt Optimization.**\n",
    "\n",
    "This code initializes and runs a LangGraph workflow to optimize an initial prompt through multiple iterations.\n",
    "The workflow streams events and updates for each step of the optimization process."
   ]
  },
  {
   "cell_type": "markdown",
   "id": "47a879d4",
   "metadata": {},
   "source": [
    "***Parameters:**\n",
    "\n",
    "- `recursion_limit (int)`: The maximum number of recursive iterations (default: 100).\n",
    "\n",
    "- `thread_id (str)`: A unique identifier for the workflow execution.\n",
    "\n",
    "- `initial_prompt (str)`: The starting prompt template to be optimized.\n",
    "\n",
    "- `stream_mode (str)`: The mode for streaming graph execution updates."
   ]
  },
  {
   "cell_type": "markdown",
   "id": "7ab064d1",
   "metadata": {},
   "source": [
    "**Run the Graph**"
   ]
  },
  {
   "cell_type": "code",
   "execution_count": null,
   "id": "3a289d50",
   "metadata": {
    "id": "3a289d50",
    "outputId": "3d130baa-2bb5-4ec8-c336-001b5c822f1e"
   },
   "outputs": [
    {
     "name": "stdout",
     "output_type": "stream",
     "text": [
      "[ Here is the user's prompt ]\n",
      "What is the capital of Seoul?\n",
      "\n",
      "[ analyze_prompt ]\n",
      "\n",
      "Here is the feedback generated by AI: \n",
      "\n",
      "    (1) user's intent: seek information\n",
      "    (2) some improvement: clarify that Seoul is a city, not a country, and provide the correct capital for the country it's in\n",
      "    (3) revised prompt: \"Seoul is a city in South Korea. What is the capital of South Korea, and can you give an example of a famous landmark in that city?\"\n",
      "==============================  STEPS  ==============================\n",
      "[ Here is the proposed prompt ] \n",
      " \"Seoul is a city in South Korea. What is the capital of South Korea, and can you give an example of a famous landmark in that city?\"\n",
      "\n",
      "[ human ]\n",
      "\n",
      "\n",
      "==============================  STEPS  ==============================\n",
      "\n",
      "[ test_prompt ]\n",
      "\n",
      "Previous Prompt Response:\n",
      "Seoul is the capital city of South Korea, so it does not have a capital. However, if you're asking about the capital of the Seoul Special City, it is also Seoul. Is there anything else I can help you with?\n",
      "\n",
      "Revised Prompt Response:\n",
      "The capital of South Korea is Seoul, which you've already identified. A famous landmark in Seoul is the Gyeongbokgung Palace. This palace is the largest among the five royal palaces in Seoul and is a great example of traditional Korean architecture.\n",
      "\n",
      "Comparative Analysis:\n",
      "1. The key differences in the responses are as follows:\n",
      "   - The Previous Response clarifies that Seoul is the capital of South Korea and does not have its own capital, while the Revised Response directly states that Seoul is the capital of South Korea.\n",
      "   - The Previous Response does not provide any additional information about famous landmarks, whereas the Revised Response mentions the Gyeongbokgung Palace as a famous landmark in Seoul.\n",
      "2. The Revised Response is more direct, accurate, and informative than the Previous Response.\n",
      "3. The Revised Response is better because it directly answers the question, provides a well-known landmark in the capital city, and does so in a clear and concise manner.\n",
      "==============================  STEPS  ==============================\n",
      "\n",
      "[ optimize_prompt ]\n",
      "\n",
      "\"Seoul is a city in South Korea. What is the capital of South Korea, and can you give an example of a famous landmark in that city?\"\n",
      "==============================  STEPS  ==============================\n",
      "\n",
      "[ evaluate_prompt ]\n",
      "\n",
      "\n",
      "    - 2.1) 1\n",
      "    - 2.2) 0\n",
      "    - 2.3) 1\n",
      "    - 2.4) 1\n",
      "\n",
      "    The revised prompt is aligned with the user's intent, as it asks for the same information as the original prompt. However, it may not generate a better output since it is identical to the original prompt. The revised prompt is well-structured and of flexible length.\n",
      "\n",
      "    Total score: [3]\n",
      "==============================  STEPS  ==============================\n",
      "\n",
      "\n",
      "\n"
     ]
    }
   ],
   "source": [
    "import uuid\n",
    "from langchain_core.runnables import RunnableConfig\n",
    "\n",
    "# Configure execution parameters\n",
    "config = RunnableConfig(\n",
    "    recursion_limit=100, configurable={\"thread_id\": str(uuid.uuid4())}\n",
    ")\n",
    "\n",
    "initial_prompt = \"\"\"What is the capital of Seoul?\"\"\"\n",
    "\n",
    "\n",
    "# Initialize graph state with input prompt\n",
    "inputs = GraphState(prompt=[initial_prompt])\n",
    "\n",
    "# Execute graph and stream updates\n",
    "for event in graph.stream(inputs, config, stream_mode=\"updates\"):\n",
    "    for key, value in event.items():\n",
    "        print(f\"\\n[ {key} ]\\n\")\n",
    "        if key == \"analyze_prompt\":\n",
    "            filtered_values = {k: v for k, v in value.items() if k != \"prompt\"}\n",
    "        elif key == \"human\":\n",
    "            filtered_values = {k: (\"\" if v[-1] in ['q', 'quit'] else v[-1]) for k, v in value.items()}\n",
    "        else:\n",
    "             filtered_values = value\n",
    "        for _, v in filtered_values.items():\n",
    "                if isinstance(v, list):\n",
    "                    print(f\"{v[-1]}\")\n",
    "                else:\n",
    "                     print(v)\n",
    "    print(\"===\" * 10, \" STEPS \", \"===\" * 10)\n",
    "\n",
    "print(\"\\n\\n\")"
   ]
  },
  {
   "cell_type": "markdown",
   "id": "e16ca2dd",
   "metadata": {
    "id": "e16ca2dd"
   },
   "source": [
    "**Check out the optimized prompt!**"
   ]
  },
  {
   "cell_type": "code",
   "execution_count": null,
   "id": "c646f8bb",
   "metadata": {
    "id": "c646f8bb",
    "outputId": "1f7fa06e-904e-4a21-88b3-11ac6b6ab53e"
   },
   "outputs": [
    {
     "name": "stdout",
     "output_type": "stream",
     "text": [
      "Initial Prompt Given: \n",
      "What is the capital of Seoul?\n",
      "============================================================\n",
      "Optimized Prompt: \n",
      "\"Seoul is a city in South Korea. What is the capital of South Korea, and can you give an example of a famous landmark in that city?\"\n",
      "\n",
      "\n",
      "\n"
     ]
    }
   ],
   "source": [
    "snapshot = graph.get_state(config).values\n",
    "print(f\"Initial Prompt Given: \\n{snapshot['prompt'][0]}\")\n",
    "print(\"===\" * 20)\n",
    "print(f\"Optimized Prompt: \\n{snapshot['prompt'][-1]}\")\n",
    "print(\"\\n\\n\")"
   ]
  },
  {
   "cell_type": "markdown",
   "id": "fd705464",
   "metadata": {},
   "source": [
    "---"
   ]
  },
  {
   "cell_type": "markdown",
   "id": "2ab1dcd3",
   "metadata": {},
   "source": [
    "## **A.4 Full Code of Prompt Optimization with LangGraph**"
   ]
  },
  {
   "cell_type": "code",
   "execution_count": null,
   "id": "a2496498",
   "metadata": {},
   "outputs": [],
   "source": [
    "import os\n",
    "from typing import Annotated, TypedDict\n",
    "import operator\n",
    "from langchain_core.prompts import PromptTemplate\n",
    "from langchain_core.output_parsers import StrOutputParser\n",
    "from langchain.output_parsers import RegexParser\n",
    "from langchain_openai import ChatOpenAI\n",
    "from langgraph.checkpoint.memory import MemorySaver\n",
    "from langgraph.graph import StateGraph, END  \n",
    "\n",
    "# Retrieve the UPSTAGE_API_KEY variable from the IPython store\n",
    "%store -r UPSTAGE_API_KEY\n",
    "\n",
    "try:\n",
    "    if UPSTAGE_API_KEY:\n",
    "        print(\"Success!\")\n",
    "except NameError as ne:\n",
    "    print(f\"Since, {ne}\")\n",
    "    print(\"Please, insert your API key.\")\n",
    "    UPSTAGE_API_KEY = input(\"UPSTAGE_API_KEY =\")\n",
    "\n",
    "# Set your API key: \n",
    "# UPSTAGE_API_KEY = \" \" ←- Insert your API key here. \n",
    "\n",
    "# Initialization\n",
    "def get_llm(model: str =\"solar-pro\", temperature: float=0.0, **kwargs: any)-> ChatOpenAI:\n",
    "    return ChatOpenAI(\n",
    "        api_key=os.environ[\"UPSTAGE_API_KEY\"],\n",
    "        base_url=\"https://api.upstage.ai/v1\",\n",
    "        model=model,\n",
    "        temperature=temperature,\n",
    "        **kwargs\n",
    "    )\n",
    "\n",
    "parser = RegexParser(\n",
    "    regex=r\"revised prompt:\\s*(.+)\",\n",
    "    output_keys=[\"revised_prompt\"]\n",
    ")\n",
    "solar = get_llm()\n",
    "\n",
    "# Set up the GraphState\n",
    "class GraphState(TypedDict):\n",
    "    \"\"\"\n",
    "    A TypedDict class representing the state of the prompt optimization graph.\n",
    "\n",
    "    Attributes:\n",
    "        prompt (Annotated[list, operator.add]): List containing the prompts being optimized\n",
    "        ai_feedback (Annotated[list, operator.add]): List containing AI-generated feedback on prompts\n",
    "        human_feedback (Annotated[list, operator.add]): List containing human feedback on prompts\n",
    "    \"\"\"\n",
    "\n",
    "    prompt: Annotated[list, operator.add]\n",
    "    ai_feedback: Annotated[list, operator.add]\n",
    "    human_feedback: Annotated[list, operator.add]\n",
    "\n",
    "# 1st node: analyze_prompt\n",
    "def analyze_prompt(state: GraphState, llm: ChatOpenAI=solar) -> GraphState:\n",
    "    \"\"\"\n",
    "    Analyzes the given prompt and revise it for improvement.\n",
    "\n",
    "    Args:\n",
    "        state (GraphState): Current state contains the prompt to analyze\n",
    "        llm (ChatOpenAI): Language model used to generate feedback and improvements\n",
    "\n",
    "    Returns:\n",
    "        GraphState: Updated state with AI feedback and revised prompt\n",
    "    \"\"\"\n",
    "    latest_prompt = state[\"prompt\"][0]\n",
    "\n",
    "    print(\"[ Here is the user's prompt ]\")\n",
    "    print(latest_prompt)\n",
    "\n",
    "    prompt = PromptTemplate.from_template(\n",
    "        \"\"\"\n",
    "    Your task is to analyze user's prompt. \n",
    "\n",
    "    1. Extract the user's intent. And write down a single word focused on 'action ascription'.\n",
    "    2. Check your output is aligned with the user's intent.   \n",
    "    3. Suggest me some improvements for the prompt. \n",
    "    4. Revise my prompt to ensure it includes two focal elements: examples and ample context within the prompt.\n",
    "    5. Your output should be within 4 sentences. Format: \n",
    "        (1) user's intent:\n",
    "        (2) some improvement:\n",
    "        (3) revised prompt: *don't answer to the user's prompt.\n",
    "        \n",
    "                                          \n",
    "    --------> \n",
    "    User's prompt: \n",
    "    {prompt}\n",
    "    --------> \n",
    "    \"\"\")\n",
    "\n",
    "    chain = prompt | llm | StrOutputParser()\n",
    "\n",
    "    output = chain.invoke({\"prompt\": latest_prompt})\n",
    "    response = f\"Here is the feedback generated by AI: \\n{output}\"\n",
    "\n",
    "    parsed_response = parser.parse(output)\n",
    "    revised_prompt = parsed_response[\"revised_prompt\"]\n",
    "\n",
    "    return {\"prompt\": [revised_prompt],\n",
    "            \"ai_feedback\": [response]}\n",
    "\n",
    "# 2nd node: human\n",
    "def human_feedback(state: GraphState) -> GraphState:\n",
    "    \"\"\"\n",
    "    Collects feedback from the user.\n",
    "\n",
    "    Args:\n",
    "        state (GraphState): Current state of the graph\n",
    "\n",
    "    Returns:\n",
    "        GraphState: Update state with human feedback\n",
    "    \"\"\"\n",
    "    print(\"[ Here is the proposed prompt ] \\n\", state['prompt'][-1])\n",
    "    user_input = input(\"(Press 'q' or 'quit' to quit)\")\n",
    "\n",
    "    return {\"human_feedback\": [user_input]}\n",
    "\n",
    "# 3rd node: test_prompt\n",
    "def test_optimized_prompt(state: GraphState, llm: ChatOpenAI=get_llm(temperature=0.7)) -> GraphState:\n",
    "    \"\"\"\n",
    "    Tests both previous and current prompts, comparing their responses.\n",
    "    \n",
    "    Args:\n",
    "        state (GraphState): Current state containing both prompts\n",
    "        llm (ChatOpenAI): Language model( with temperature: 0.7 ) used to generate feedback\n",
    "        \n",
    "    Returns:\n",
    "        GraphState: Updated state with comparison of responses\n",
    "    \"\"\"\n",
    "    previous_prompt = state[\"prompt\"][-2]  # Get previous prompt\n",
    "    current_prompt = state[\"prompt\"][-1]  # Get latest prompt\n",
    "    \n",
    "    # Get responses for both prompts\n",
    "    previous_response = llm.invoke(previous_prompt)\n",
    "    revised_response = llm.invoke(current_prompt)\n",
    "    \n",
    "    # Compare the responses\n",
    "    comparison_prompt = f\"\"\"\n",
    "    Compare these two responses:\n",
    "    \n",
    "    PREVIOUS PROMPT: {previous_prompt}\n",
    "    PREVIOUS RESPONSE: {previous_response.content}\n",
    "    \n",
    "    REVISED PROMPT: {current_prompt}\n",
    "    REVISED RESPONSE: {revised_response.content}\n",
    "    \n",
    "    Please analyze:\n",
    "    1. Key differences in responses. \n",
    "    2. Summarize the differences within 1 sentence.  \n",
    "    3. tell me which one is better: Previous or Revised?  \n",
    "    \"\"\"\n",
    "\n",
    "    analysis = llm.invoke(comparison_prompt)\n",
    "    \n",
    "    return {\"ai_feedback\": [\n",
    "        f\"Previous Prompt Response:\\n{previous_response.content}\\n\\n\"\n",
    "        f\"Revised Prompt Response:\\n{revised_response.content}\\n\\n\"\n",
    "        f\"Comparative Analysis:\\n{analysis.content}\"\n",
    "    ]}\n",
    "\n",
    "# 4th node: optimize_prompt\n",
    "def optimize_prompt(state: GraphState, llm: ChatOpenAI=solar) -> GraphState:\n",
    "    \"\"\"\n",
    "    Optimizes the prompt based on your feedback and the user's feedback. \n",
    "\n",
    "    Args:\n",
    "        state (GraphState): Current state contains the prompt, AI feedback(your feedback), and the user's feedback \n",
    "        llm (ChatOpenAI): Language model used to optimize prompt based on feedback\n",
    "\n",
    "    Returns:\n",
    "        GraphState: Updated state with optimized prompt\n",
    "    \"\"\"\n",
    "    latest_prompt = state[\"prompt\"][-1]\n",
    "    latest_ai_feedback = state[\"ai_feedback\"][-1]\n",
    "    latest_human_feedback = state[\"human_feedback\"][-1]\n",
    "\n",
    "    if latest_human_feedback == \"q\" or latest_human_feedback == \"quit\":\n",
    "        latest_human_feedback = \"\"\n",
    "        return {\"prompt\": [latest_prompt]}\n",
    "\n",
    "    prompt = PromptTemplate.from_template(\n",
    "    \"\"\"\n",
    "    Your task is to optimize the user's prompt. Follow these instructions: \n",
    "\n",
    "    Here is the prompt before improvement:\n",
    "    {prompt}\n",
    "\n",
    "    Here is previous feedback generated by AI:\n",
    "    {ai_feedback}\n",
    "\n",
    "    Here is Human's follow-up feedback:\n",
    "    {human_feedback}\n",
    "\n",
    "    Write down the improved prompt. Only present the revised prompt without any additional comments. \n",
    "    \"\"\"\n",
    "    )\n",
    "\n",
    "    chain = prompt | llm | StrOutputParser()\n",
    "\n",
    "    response = chain.invoke(\n",
    "        {\n",
    "            \"prompt\": latest_prompt,\n",
    "            \"ai_feedback\": latest_ai_feedback,\n",
    "            \"human_feedback\": latest_human_feedback,\n",
    "        }\n",
    "    )\n",
    "    return {\"prompt\": [response]}\n",
    "\n",
    "# 5th node: evaluate_prompt\n",
    "def evaluate_prompt(state: GraphState, llm: ChatOpenAI=solar) -> GraphState:\n",
    "    \"\"\"\n",
    "    Evaluates the optimized prompt by comparing it to the previous prompt.\n",
    "\n",
    "    Args:\n",
    "        state (GraphState): Current state contains the previous prompt and the optimized prompt\n",
    "        llm (ChatOpenAI): Language model used to evaluate the optimized prompt\n",
    "\n",
    "    Returns:\n",
    "        GraphState: Updated state with evaluation feedback\n",
    "    \"\"\"\n",
    "    before_optimization_prompt = state[\"prompt\"][-2]\n",
    "    improved_prompt = state[\"prompt\"][-1]\n",
    "\n",
    "    prompt = PromptTemplate.from_template(\n",
    "        \"\"\"\n",
    "    Now, let's evaluate the prompt. Follow these instructions: \n",
    "    - 1. Comparision : read two prompts carefully and think about the difference between them.  \n",
    "    previous prompt: {before_optimization_prompt}\n",
    "    revised prompt: {improved_prompt}\n",
    "\n",
    "    - 2. Scoring: Give a score between 0 and 1 for 4 criteria. Show your the total score at the end. \n",
    "    If yes add 1, else add 0.   \n",
    "      - 2.1) Is the revised prompt aligned with the user's intent? (yes or no)\n",
    "      - 2.2) Is the revised prompt able to generate a better output than the previous prompt? (yes or no)\n",
    "      - 2.3) Is the revised prompt well-structured? (yes or no)\n",
    "      - 2.4) Is the revised prompt of flexible length? (yes or no) \n",
    "    Sum up your score for each criterion: [ ]\n",
    "       \n",
    "    - 3. Writedown the justification for your score within 2 sentences. \n",
    "\n",
    "    \"\"\"\n",
    "    )\n",
    "\n",
    "    chain = prompt | llm | StrOutputParser()\n",
    "\n",
    "    response = chain.invoke(\n",
    "        {\n",
    "            \"before_optimization_prompt\": before_optimization_prompt,\n",
    "            \"improved_prompt\": improved_prompt,\n",
    "        }\n",
    "    )\n",
    "    return {\"ai_feedback\": [response]}\n",
    "\n",
    "# An additional path: CONTINUE \n",
    "def should_continue(state: GraphState) -> str:\n",
    "    \"\"\"\n",
    "    Determines whether to continue the optimization loop based on the user's feedback.\n",
    "\n",
    "    Args:\n",
    "        state (GraphState): Current state containing the user's feedback\n",
    "\n",
    "    Returns:\n",
    "        str: \"FINISH\" if the user wants to quit, \"CONTINUE\" otherwise\n",
    "    \"\"\"\n",
    "    latest_human_feedback = state[\"human_feedback\"][-1].strip()\n",
    "    if latest_human_feedback == \"q\" or latest_human_feedback == \"quit\":\n",
    "        return \"FINISH\"\n",
    "    else:\n",
    "        return \"CONTINUE\"\n",
    "    \n",
    "# Memory management\n",
    "memory = MemorySaver()\n",
    "workflow = StateGraph(GraphState)\n",
    "\n",
    "# Node configuration\n",
    "workflow.add_node(\"analyze_prompt\", analyze_prompt)\n",
    "workflow.add_node(\"human\", human_feedback)\n",
    "workflow.add_node(\"test_prompt\", test_optimized_prompt)\n",
    "workflow.add_node(\"optimize_prompt\", optimize_prompt)\n",
    "workflow.add_node(\"evaluate_prompt\", evaluate_prompt)\n",
    "\n",
    "# Add edges for the new flow\n",
    "workflow.add_edge(\"analyze_prompt\", \"human\")\n",
    "workflow.add_edge(\"human\", \"test_prompt\")\n",
    "workflow.add_edge(\"test_prompt\", \"optimize_prompt\")\n",
    "workflow.add_edge(\"optimize_prompt\", \"evaluate_prompt\")\n",
    "workflow.add_conditional_edges(\n",
    "    \"evaluate_prompt\",\n",
    "    should_continue,\n",
    "    {\n",
    "        \"CONTINUE\": \"human\",\n",
    "        \"FINISH\": END\n",
    "    }\n",
    ")\n",
    "\n",
    "# Graph compilation\n",
    "workflow.set_entry_point(\"analyze_prompt\")\n",
    "graph = workflow.compile(checkpointer=memory)\n",
    "\n",
    "# Visualize the graph\n",
    "from IPython.display import Image, display\n",
    "display(Image(graph.get_graph().draw_mermaid_png()))\n",
    "print(\"\\n\\n\")"
   ]
  },
  {
   "cell_type": "code",
   "execution_count": null,
   "id": "2b3ddfbf",
   "metadata": {},
   "outputs": [],
   "source": [
    "import uuid\n",
    "from langchain_core.runnables import RunnableConfig\n",
    "\n",
    "# Configure execution parameters\n",
    "config = RunnableConfig(\n",
    "    recursion_limit=100, configurable={\"thread_id\": str(uuid.uuid4())}\n",
    ")\n",
    "\n",
    "initial_prompt = \"\"\"What is the capital of Seoul?\"\"\"\n",
    "\n",
    "\n",
    "# Initialize graph state with input prompt\n",
    "inputs = GraphState(prompt=[initial_prompt])\n",
    "\n",
    "# Execute graph and stream updates\n",
    "for event in graph.stream(inputs, config, stream_mode=\"updates\"):\n",
    "    for key, value in event.items():\n",
    "        print(f\"\\n[ {key} ]\\n\")\n",
    "        if key == \"analyze_prompt\":\n",
    "            filtered_values = {k: v for k, v in value.items() if k != \"prompt\"}\n",
    "        elif key == \"human\":\n",
    "            filtered_values = {k: (\"\" if v[-1] in ['q', 'quit'] else v[-1]) for k, v in value.items()}\n",
    "        else:\n",
    "             filtered_values = value\n",
    "        for _, v in filtered_values.items():\n",
    "                if isinstance(v, list):\n",
    "                    print(f\"{v[-1]}\")\n",
    "                else:\n",
    "                     print(v)\n",
    "    print(\"===\" * 10, \" STEPS \", \"===\" * 10)\n",
    "\n",
    "print(\"\\n\\n\")"
   ]
  },
  {
   "cell_type": "code",
   "execution_count": null,
   "id": "279c97ae",
   "metadata": {},
   "outputs": [],
   "source": [
    "snapshot = graph.get_state(config).values\n",
    "print(f\"Initial Prompt Given: \\n{snapshot['prompt'][0]}\")\n",
    "print(\"===\" * 20)\n",
    "print(f\"Optimized Prompt: \\n{snapshot['prompt'][-1]}\")\n",
    "print(\"\\n\\n\")"
   ]
  },
  {
   "cell_type": "markdown",
   "id": "fcb6193f",
   "metadata": {},
   "source": [
    "\n",
    "We have covered the process of optimizing prompts using LangGraph. If you need to automate prompt optimization while working with Solar, consider leveraging LangGraph as introduced in this appendix.\n",
    "\n",
    "*The source code used in this appendix was provided by Teddy Lee.*"
   ]
  },
  {
   "cell_type": "markdown",
   "id": "a068d88f",
   "metadata": {},
   "source": [
    "*Back to [README](./README.md)*"
   ]
  }
 ],
 "metadata": {
  "colab": {
   "provenance": []
  },
  "kernelspec": {
   "display_name": "base",
   "language": "python",
   "name": "python3"
  },
  "language_info": {
   "codemirror_mode": {
    "name": "ipython",
    "version": 3
   },
   "file_extension": ".py",
   "mimetype": "text/x-python",
   "name": "python",
   "nbconvert_exporter": "python",
   "pygments_lexer": "ipython3",
   "version": "3.12.4"
  }
 },
 "nbformat": 4,
 "nbformat_minor": 5
}
