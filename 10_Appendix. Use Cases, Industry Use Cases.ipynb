{
 "cells": [
  {
   "cell_type": "markdown",
   "metadata": {},
   "source": [
    "# **Appendix. Use Cases: Industry Use Cases**"
   ]
  },
  {
   "cell_type": "markdown",
   "metadata": {},
   "source": [
    "This appendix includes prompt templates for various industry use cases.\n",
    "\n",
    "**A prompt template** is a structured framework for guiding Solar's responses. By using defined instructions and formats, you can generate ideas for repetitive tasks and improve efficiency through template reuse."
   ]
  },
  {
   "cell_type": "markdown",
   "metadata": {},
   "source": [
    "## **Table of Contents**\n",
    "- Use `Ctrl + F` (Windows) or `Cmd + F` (Mac) to locate specific sections by title."
   ]
  },
  {
   "cell_type": "markdown",
   "metadata": {},
   "source": [
    "- **A.1 Document Formatting**  \n",
    "\n",
    "- **A.2 Entity Extraction**  \n",
    "\n",
    "    - A.2.1 Function Calling: Entity Extraction  \n",
    "          \n",
    "      \n",
    "  \n",
    "- **A.3 Remove PII (Personally Identifiable Information)**  \n",
    "\n",
    "- **A.4 Complex Prompt: Query Decomposition**  "
   ]
  },
  {
   "cell_type": "markdown",
   "metadata": {},
   "source": [
    "**Set up**"
   ]
  },
  {
   "cell_type": "code",
   "execution_count": null,
   "metadata": {},
   "outputs": [
    {
     "name": "stdout",
     "output_type": "stream",
     "text": [
      "Success!\n"
     ]
    }
   ],
   "source": [
    "from openai import OpenAI\n",
    "\n",
    "# Retrieve the UPSTAGE_API_KEY variable from the IPython store\n",
    "%store -r UPSTAGE_API_KEY\n",
    "\n",
    "try:\n",
    "    if UPSTAGE_API_KEY:\n",
    "        print(\"Success!\")\n",
    "except NameError as ne:\n",
    "    print(f\"Since, {ne}\")\n",
    "    print(\"Please, insert your API key.\")\n",
    "    UPSTAGE_API_KEY = input(\"UPSTAGE_API_KEY =\")\n",
    "\n",
    "# Set your API key: \n",
    "# UPSTAGE_API_KEY = \" \" ←- Insert your API key here. \n",
    "\n",
    "client = OpenAI(\n",
    "    api_key= UPSTAGE_API_KEY,\n",
    "    base_url=\"https://api.upstage.ai/v1/solar\"\n",
    ")\n",
    "\n",
    "config_model = {\n",
    "    \"model\": \"solar-pro\",\n",
    "    \"max_tokens\": 996,\n",
    "    \"temperature\": 0.5,\n",
    "    \"top_p\": 1.0,\n",
    "}\n",
    "\n",
    "def get_completion(messages, system_prompt=\"\", config=config_model):\n",
    "    try:\n",
    "        if system_prompt:\n",
    "            messages = [{\"role\": \"system\", \"content\": system_prompt}] + messages\n",
    "\n",
    "        message = client.chat.completions.create(messages=messages, **config)\n",
    "        return message.choices[0].message.content\n",
    "    \n",
    "    except Exception as e:\n",
    "        print(f\"Error during API call: {e}\")\n",
    "        return None"
   ]
  },
  {
   "cell_type": "markdown",
   "metadata": {},
   "source": [
    "---"
   ]
  },
  {
   "cell_type": "markdown",
   "metadata": {},
   "source": [
    "## **A.1 Document Formatting**"
   ]
  },
  {
   "cell_type": "markdown",
   "metadata": {},
   "source": [
    "Ensuring consistency in references and citations is crucial for readability and professionalism. When working with texts that contain citations in various formats (e.g., author-date, footnotes, endnotes), automating the process of identifying and reformatting them can save time and reduce errors.\n"
   ]
  },
  {
   "cell_type": "markdown",
   "metadata": {},
   "source": [
    "**The goal is to:**\n",
    "\n",
    "- Identify all citations and references in the text, regardless of their existing format.  \n",
    "\n",
    "- Reformat them to a consistent style using sequential numeric indices enclosed in square brackets (e.g., [1], [2], [3]).  \n",
    "\n",
    "- Maintain sequential numbering throughout the document to reflect the order in which the citations appear.  \n",
    "\n",
    "- Preserve the rest of the text without alterations.  \n",
    "\n",
    "By crafitng a precise prompt, you can guide Solar to perform this task efficiently.  "
   ]
  },
  {
   "cell_type": "markdown",
   "metadata": {},
   "source": [
    "**Prompt Template**\n"
   ]
  },
  {
   "cell_type": "code",
   "execution_count": null,
   "metadata": {},
   "outputs": [
    {
     "name": "stdout",
     "output_type": "stream",
     "text": [
      "[1] Benoit, W. J., & Wells, R. T. (1996). The argument techniques of presidential candidates: A content analysis of the 1992 debates. In W. J. Benoit & K. Sandler (Eds.), Communication and political argument: Perspectives on the 1992 presidential campaign (pp. 171-198). New York, NY: Guilford Press.\n",
      "\n",
      "[2] Benoit, W. J., & Brazeal, K. (2002). The argument techniques of presidential candidates: A content analysis of the 1996 debates. In W. J. Benoit & K. Sandler (Eds.), Communication and political argument: Perspectives on the 1996 presidential campaign (pp. 171-198). New York, NY: Guilford Press.\n",
      "\n",
      "[3] Clayman, S. E., & Heritage, J. (2002a). The argument techniques of presidential candidates: A content analysis of the 2000 debates. In W. J. Benoit & K. Sandler (Eds.), Communication and political argument: Perspectives on the 2000 presidential campaign (pp. 171-198). New York, NY: Guilford Press.\n",
      "\n",
      "[4] Clayman, S. E., & Heritage, J. (2002b). The argument techniques of presidential candidates: A content analysis of the 2000 debates. In W. J. Benoit & K. Sandler (Eds.), Communication and political argument: Perspectives on the 2000 presidential campaign (pp. 171-198). New York, NY: Guilford Press. \n",
      "\n",
      "\n"
     ]
    }
   ],
   "source": [
    "message = [\n",
    "    {\n",
    "        \"role\": \"user\",\n",
    "        \"content\": \"\"\"Your task is to find all references and citations in the provided text and reformat them into a consistent numeric citation style. \n",
    "\n",
    "\n",
    "#Instructions\n",
    "1. Identify all citations and references in the given text. \n",
    "2. Replace each citation with a sequential numeric index enclosed in square brackets (e.g., [1], [2], [3]), following the order they appear in the text.Follow the Chicago Manual of Style convention. \n",
    "3. Update any in-text citations to this format.\n",
    "4. Do not modify any other content in the text.\n",
    "--\n",
    "<Text> \n",
    "A substantial amount of research has investigated the rhetoric and argumenttechniques employed in political debates, with a particular focus on televiseddebates (Benoit & Wells, 1996; Benoit & Brazeal, 2002; Clayman & Heritage,2002a, 2002b). This body of work often employs content analysis toscrutinize debate transcripts, coding utterances according to rhetorical strategiessuch as “acclaims” and “attacks” (Benoit & Wells, 1996). Acclaims highlightsa debater’s own merits, whereas attacks target an opponent’s characteror record. By quantifying these tactics, researchers deduce debaters’ rhetoricalstyles; frequent attacks suggest aggressiveness, and acclaims, a positive orientation.This approach extends to analyzing themes, and offensive versus defensivetactics.\n",
    "</Text> \n",
    "---\n",
    "\n",
    "#Response Format: \n",
    "[#] Full content of reference in the Chicago style format. (Don't present this prompt).\n",
    "\n",
    "*Important*\n",
    "You don’t need to present the provided text—only PRESENT the citations. \n",
    "\n",
    "\n",
    "Think step by step.  \n",
    "\n",
    "\"\"\"\n",
    "    }\n",
    "]\n",
    "\n",
    "response = get_completion(messages=message)\n",
    "print(response, \"\\n\\n\")"
   ]
  },
  {
   "cell_type": "markdown",
   "metadata": {},
   "source": [
    "- The data used is sample data. The results of the prompts are also sample citation data."
   ]
  },
  {
   "cell_type": "markdown",
   "metadata": {},
   "source": [
    "> **Prompting Tips**:\n",
    "> \n",
    "> 1. We have observed that if we don’t strongly enforce the rule to avoid displaying the prompt itself, Solar frequently includes the system prompt in its output. This time, you can add keywords like *`important`* and specify \"do not present the prompt\" or \"only present the citation.\"\n",
    ">\n",
    "> 2. Also, remember what we learned about CoT (Chain of Thought) prompting in Chapter 7. The prompt used here is a type of **zero-shot CoT**, meaning that using a chain-of-thought method without examples can enhance Solar’s performance. In this case, we used \"`Think step by step.`\"\n",
    ">\n",
    "> 3. You can select citation styles such as MLA, APA, Chicago, Harvard and Vancouver. \n",
    "\n",
    "<br>  \n"
   ]
  },
  {
   "cell_type": "markdown",
   "metadata": {},
   "source": [
    "> **Debugging Tips:** \n",
    ">\n",
    ">If Solar fails to perform your task, check the following: \n",
    ">\n",
    "> (1) This type of formatting task is highly sensitive to Solar’s configuration. The best observed parameters are: \n",
    "> → `Temperature: 0.5, Max Tokens:996, Top P: 1`\n",
    ">  (*These are not absolute and may need adjustment.*) \n",
    ">\n",
    "> (2) Ensure your text source is positioned within the system prompt(e.g., ”role”:”system”). If the text is placed in the user message, Solar may fail to apply the specific formatting. \n",
    "\n",
    "<br>  \n"
   ]
  },
  {
   "cell_type": "markdown",
   "metadata": {},
   "source": [
    "---"
   ]
  },
  {
   "cell_type": "markdown",
   "metadata": {},
   "source": [
    "## **A.2 Entity Extraction**"
   ]
  },
  {
   "cell_type": "markdown",
   "metadata": {},
   "source": [
    "Entity extraction is valuable in business and data contexts. Here are common entities Solar can identify:\n",
    "\n",
    "- **Person Names**: Identifying individuals such as CEOs, authors, or project managers mentioned in text.  \n",
    "\n",
    "- **Organizations**: Extracting company names, institutions, or other organizations involved in contracts, reports, or partnerships.  \n",
    "\n",
    "- **Locations**: Pulling out specific places, such as cities, countries, or regions, which are relevant for events, expansions, or market targeting.  \n",
    "\n",
    "- **Dates**: Capturing specific dates or timelines related to agreements, reports, or product launches.  \n",
    "\n",
    "- **Monetary Amounts**: Extracting financial details like budgets, contract values, or funding amounts.  \n",
    "\n",
    "- **Events**: Identifying significant events or meetings, such as annual summits or project launches.  \n",
    "\n",
    "- **Products or Services**: Recognizing product names, services, or projects that companies are launching or promoting.  \n",
    "\n",
    "- **Percentages or Quantitative Metrics**: Useful for market growth predictions, performance indicators, or research findings.  "
   ]
  },
  {
   "cell_type": "markdown",
   "metadata": {},
   "source": [
    "**Unstructured Sample Data for Entity Extraction (generated by Solar)**"
   ]
  },
  {
   "cell_type": "markdown",
   "metadata": {},
   "source": [
    "```python\n",
    "ㅤ\n",
    "    1. \"Hi, I'm John Doe, and you can reach me at [johndoe@example.com](mailto:johndoe@example.com) for any inquiries.\"\n",
    "    2. \"Our team lead, Jane Smith ([jane.smith@company.com](mailto:jane.smith@company.com)), will be available for consultation on Monday.\"\n",
    "    3. \"Please send the report to the CEO, Mr. Robert Brown, at [email@example.com](mailto:email@example.com).\"\n",
    "    4. \"The contact person for the project is Emily Johnson, and her email is [emily.johnson@business.com](mailto:emily.johnson@business.com).\"\n",
    "    5. \"For technical support, email our CTO, Alex Taylor, at [firstname.lastname@tech.com](mailto:firstname.lastname@tech.com).\"\n",
    "    6. \"The account manager, Sarah Wilson, can be reached at [sarah.wilson@email.com](mailto:sarah.wilson@email.com) for billing questions.\"\n",
    "    7. \"Our sales director, Michael Anderson, is available at [firstname.lastname@sales.com](mailto:firstname.lastname@sales.com) for partnership discussions.\"\n",
    "    8. \"The HR manager, Lisa Davis, can be contacted at [email@example.com](mailto:email@example.com) for employment opportunities.\"\n",
    "    9. \"The lead designer, David Martinez, can be reached at [email@example.com](mailto:email@example.com) for design-related queries.\"\n",
    "    10. \"For media inquiries, please contact our PR manager, Olivia Garcia, at [firstname.lastname@pr.com](mailto:firstname.lastname@pr.com).\"\n",
    "    ㅤ\n",
    "```"
   ]
  },
  {
   "cell_type": "markdown",
   "metadata": {},
   "source": [
    "**Prompt Template**\n",
    "\n",
    "Extract the following entities from the text: Person Names, Organizations and Dates."
   ]
  },
  {
   "cell_type": "code",
   "execution_count": null,
   "metadata": {},
   "outputs": [
    {
     "name": "stdout",
     "output_type": "stream",
     "text": [
      "John Doe, johndoe@example.com\n",
      "Jane Smith, jane.smith@company.com\n",
      "Robert Brown, email@example.com\n",
      "Emily Johnson, emily.johnson@business.com\n",
      "Alex Taylor, firstname.lastname@tech.com\n",
      "Sarah Wilson, sarah.wilson@email.com\n",
      "Michael Anderson, firstname.lastname@sales.com\n",
      "Lisa Davis, email@example.com\n",
      "David Martinez, email@example.com\n",
      "Olivia Garcia, firstname.lastname@pr.com \n",
      "\n",
      "\n"
     ]
    }
   ],
   "source": [
    "message = [\n",
    "    {\n",
    "        \"role\": \"user\",\n",
    "        \"content\": \"\"\"Please extract and list each 'Person Name,' and 'email address' in a line. \n",
    "If there is no information, respond with \"N/A\" only. Do not add any additional text.\n",
    "\n",
    "<Text>\n",
    "{{1. \"Hi, I'm John Doe, and you can reach me at [johndoe@example.com](mailto:johndoe@example.com) for any inquiries.\"\n",
    "2. \"Our team lead, Jane Smith ([jane.smith@company.com](mailto:jane.smith@company.com)), will be available for consultation on Monday.\"\n",
    "3. \"Please send the report to the CEO, Mr. Robert Brown, at [email@example.com](mailto:email@example.com).\"\n",
    "4. \"The contact person for the project is Emily Johnson, and her email is [emily.johnson@business.com](mailto:emily.johnson@business.com).\"\n",
    "5. \"For technical support, email our CTO, Alex Taylor, at [firstname.lastname@tech.com](mailto:firstname.lastname@tech.com).\"\n",
    "6. \"The account manager, Sarah Wilson, can be reached at [sarah.wilson@email.com](mailto:sarah.wilson@email.com) for billing questions.\"\n",
    "7. \"Our sales director, Michael Anderson, is available at [firstname.lastname@sales.com](mailto:firstname.lastname@sales.com) for partnership discussions.\"\n",
    "8. \"The HR manager, Lisa Davis, can be contacted at [email@example.com](mailto:email@example.com) for employment opportunities.\"\n",
    "9. \"The lead designer, David Martinez, can be reached at [email@example.com](mailto:email@example.com) for design-related queries.\"\n",
    "10. \"For media inquiries, please contact our PR manager, Olivia Garcia, at [firstname.lastname@pr.com](mailto:firstname.lastname@pr.com).\"}}\n",
    "</Text>\"\"\"\n",
    "    }\n",
    "]\n",
    "\n",
    "response = get_completion(messages=message)\n",
    "print(response, \"\\n\\n\")"
   ]
  },
  {
   "cell_type": "markdown",
   "metadata": {},
   "source": [
    "### **A.2.1 Function Calling: Entity Extraction**"
   ]
  },
  {
   "cell_type": "markdown",
   "metadata": {},
   "source": [
    "> The **prompt template** might work for a simple dataset, but it is not stable for extracting information. At this time, function calling is also very useful. It expands Solar’s capabilities to handle complex tasks. The combination of *Solar* and *function calling* simplifies information extraction by organizing the output into a clear, structured format. Here’s a breakdown of how it works:"
   ]
  },
  {
   "cell_type": "markdown",
   "metadata": {},
   "source": [
    "**1. Setting up the Function:** \n",
    "\n",
    "The `extract_information` function defines the specific details you want, like `date`, `person`, `company`, and `email`. This tells Solar exactly what to look for in the text."
   ]
  },
  {
   "cell_type": "markdown",
   "metadata": {},
   "source": [
    "\n",
    "**2. Input Text**:\n",
    "\n",
    "- The `sample_text` contains different sentences with information scattered in various formats. Solar will use the `extract_information` function as a guide to pull out the exact details.  \n",
    "\n",
    "- **Using Function Calling**:  \n",
    "\n",
    "    - In the request, we ask Solar to call the `extract_information` function. This means that Solar will search the text specifically for `date`, `person`, `company`, and `email` and return only those details in a structured format (like JSON).  \n",
    "\n",
    "- **Getting the Response**:  \n",
    "\n",
    "    - The code checks if the response from Solar follows the JSON format. If Solar successfully extracts the information, it’s displayed neatly; if not, we know there’s an issue with the format.  "
   ]
  },
  {
   "cell_type": "markdown",
   "metadata": {},
   "source": [
    "Let's review how the problem was solved using `function calling`."
   ]
  },
  {
   "cell_type": "code",
   "execution_count": null,
   "metadata": {},
   "outputs": [
    {
     "name": "stdout",
     "output_type": "stream",
     "text": [
      "\n",
      "Raw Response:\n",
      "------------\n",
      "{\n",
      "    \"1.\": {\n",
      "        \"date\": \"2024-03-20\",\n",
      "        \"person\": \"John Smith\",\n",
      "        \"company\": \"TechCorp\",\n",
      "        \"email\": \"john.smith@techcorp.com\"\n",
      "    },\n",
      "    \"2.\": {\n",
      "        \"date\": \"2024-03-05\",\n",
      "        \"person\": \"David Chen\",\n",
      "        \"company\": \"Bright Future Investments\",\n",
      "        \"email\": \"N/A\"\n",
      "    },\n",
      "    \"3.\": {\n",
      "        \"date\": \"2024-01-10\",\n",
      "        \"person\": \"N/A\",\n",
      "        \"company\": \"AeroDynamics Ltd.\",\n",
      "        \"email\": \"N/A\"\n",
      "    },\n",
      "    \"4.\": {\n",
      "        \"date\": \"2023-04-15\",\n",
      "        \"person\": \"N/A\",\n",
      "        \"company\": \"N/A\",\n",
      "        \"email\": \"N/A\"\n",
      "    },\n",
      "    \"5.\": {\n",
      "        \"date\": \"2023-07\",\n",
      "        \"person\": \"Dr. Emily Lin\",\n",
      "        \"company\": \"Horizon Pharmaceuticals\",\n",
      "        \"email\": \"N/A\"\n",
      "    }\n",
      "}\n",
      "\n",
      "Formatted Response:\n",
      "------------------\n",
      "1.: {'date': '2024-03-20', 'person': 'John Smith', 'company': 'TechCorp', 'email': 'john.smith@techcorp.com'}\n",
      "2.: {'date': '2024-03-05', 'person': 'David Chen', 'company': 'Bright Future Investments', 'email': 'N/A'}\n",
      "3.: {'date': '2024-01-10', 'person': 'N/A', 'company': 'AeroDynamics Ltd.', 'email': 'N/A'}\n",
      "4.: {'date': '2023-04-15', 'person': 'N/A', 'company': 'N/A', 'email': 'N/A'}\n",
      "5.: {'date': '2023-07', 'person': 'Dr. Emily Lin', 'company': 'Horizon Pharmaceuticals', 'email': 'N/A'}\n",
      "\n",
      "\n",
      "\n"
     ]
    }
   ],
   "source": [
    "import json\n",
    "\n",
    "# First, define your functions\n",
    "functions = [\n",
    "    {\n",
    "        \"name\": \"extract_information\",\n",
    "        \"description\": \"Extract specific entities from the given text\",\n",
    "        \"parameters\": {\n",
    "            \"type\": \"object\",\n",
    "            \"properties\": {\n",
    "                \"date\": {\n",
    "                    \"type\": \"string\",\n",
    "                    \"description\": \"Date mentioned in the text (format: YYYY-MM-DD)\"\n",
    "                },\n",
    "                \"person\": {\n",
    "                    \"type\": \"object\",\n",
    "                    \"properties\": {\n",
    "                        \"name\": {\"type\": \"string\"},\n",
    "                        \"role\": {\"type\": \"string\"}\n",
    "                    }\n",
    "                },\n",
    "                \"company\": {\n",
    "                    \"type\": \"string\",\n",
    "                    \"description\": \"Company name mentioned in the text\"\n",
    "                },\n",
    "                \"email\": {\n",
    "                    \"type\": \"string\",\n",
    "                    \"description\": \"Email address mentioned in the text\"\n",
    "                }\n",
    "            }\n",
    "        }\n",
    "    }\n",
    "]\n",
    "\n",
    "# Sample text to test\n",
    "sample_text = \"\"\"\n",
    "1. On 2024-03-20, John Smith, the CEO of TechCorp, can be reached at john.smith@techcorp.com regarding the upcoming meeting.\n",
    "2. \"During a board meeting on March 5, 2024, David Chen, CEO of Bright Future Investments, announced a partnership with Eco Ventures Inc. to develop sustainable energy projects across South America.\"\n",
    "3. \"Following a $1.5 million investment from Star Capital on January 10, 2024, AeroDynamics Ltd. launched a new line of drones intended for commercial use. The announcement was made at their headquarters in San Francisco, California.\"\n",
    "4. \"In a recent article published on April 15, 2023, The Economist reported that renewable energy adoption has increased by 30% in Europe, with major contributors including SolarEdge Solutions, Green Future Ltd., and EcoWave Industries.\"\n",
    "5. \"At the Innovation Forum in Tokyo, held in July 2023, Dr. Emily Lin from Horizon Pharmaceuticals shared insights on drug development trends. The forum attracted experts from Asia and North America, sponsored by the Asia-Pacific Health Foundation.\"\n",
    "\"\"\"\n",
    "\n",
    "# Make the Solar-pro call\n",
    "response = client.chat.completions.create(  \n",
    "    model=\"solar-pro\",\n",
    "    messages=[\n",
    "        {\"role\": \"system\", \"content\": \"\"\"You are a helpful assistant that extracts information from text. \n",
    "         Extract only 'date', 'person', 'company', and 'email' from the text. If there is no information, respond 'N/A'. Respond in JSON format.\"\"\"},\n",
    "        {\"role\": \"user\", \"content\": sample_text}\n",
    "    ],\n",
    "    functions=functions,\n",
    "    function_call={\"name\": \"extract_information\"}\n",
    ")\n",
    "\n",
    "\n",
    "# Updated response handling\n",
    "try:\n",
    "    # Get the response content\n",
    "    response_content = response.choices[0].message.content\n",
    "    print(\"\\nRaw Response:\")\n",
    "    print(\"------------\")\n",
    "    print(response_content)\n",
    "    \n",
    "    # Try to parse it as JSON if possible\n",
    "    try:\n",
    "        parsed_response = json.loads(response_content)\n",
    "        print(\"\\nFormatted Response:\")\n",
    "        print(\"------------------\")\n",
    "        for key, value in parsed_response.items():\n",
    "            print(f\"{key}: {value}\")\n",
    "    except json.JSONDecodeError:\n",
    "        print(\"\\nResponse is not in JSON format\")\n",
    "        \n",
    "except Exception as e:\n",
    "    print(f\"Error processing response: {e}\")\n",
    "\n",
    "print(\"\\n\\n\")"
   ]
  },
  {
   "cell_type": "markdown",
   "metadata": {},
   "source": [
    "- For more detailed information on using function calling, see the following [link]()."
   ]
  },
  {
   "cell_type": "markdown",
   "metadata": {},
   "source": [
    "---"
   ]
  },
  {
   "cell_type": "markdown",
   "metadata": {},
   "source": [
    "## **A.3 Remove PII (Personally Identifiable Information)**"
   ]
  },
  {
   "cell_type": "markdown",
   "metadata": {},
   "source": [
    "This case involves Personally identifiable Information (PII). Using prompts, we address methods and best practices for identifying and redacting PII from data used in prompts, ensuring that sensitive information such as names, contact details, and financial data are properly handled."
   ]
  },
  {
   "cell_type": "markdown",
   "metadata": {},
   "source": [
    "**1. Here is some unstructured text data that contains PII.**"
   ]
  },
  {
   "cell_type": "markdown",
   "metadata": {},
   "source": [
    "```python\n",
    "ㅤ\n",
    "    1.John Doe, who lives at 742 Evergreen Terrace in Springfield, IL, can be contacted at (555) 123-4567. Born on July 13, 1985, his email address is johndoe@example.com, and his Social Security Number is 123-45-6789.\n",
    "    2.Residing at 123 Maple Avenue in Metropolis, NY, Jane Smith’s contact details include her email, janesmith@example.com, and her phone number, (555) 765-4321. Born on March 21, 1990, Jane’s Social Security Number is 987-65-4321.\n",
    "    3.Robert Brown was born on September 9, 1975, and can be reached via email at robertbrown@example.com. His Social Security Number is 111-22-3333, and he currently resides at 456 Oak Drive, Gotham City, NJ, with a contact number of (555) 876-5432.\n",
    "    4.Emily White’s Social Security Number is 444-55-6666, and she lives at 789 Birch Lane, Star City, CA 90210. You can reach her at emilywhite@example.com, and her phone number is (555) 654-3210. Emily was born on November 19, 2001.\n",
    "    5.The phone number for Michael Green is (555) 543-2109, and he can be reached at his email, michaelgreen@example.com. Born on May 5, 1982, he resides at 101 Cedar Street, Central City, TX, and his Social Security Number is 222-33-4444.\n",
    "ㅤ\n",
    "```"
   ]
  },
  {
   "cell_type": "markdown",
   "metadata": {},
   "source": [
    "**2. Now, we detect and remove PII from the data using prompts.**"
   ]
  },
  {
   "cell_type": "code",
   "execution_count": null,
   "metadata": {},
   "outputs": [],
   "source": [
    "message = [\n",
    "    {\n",
    "        \"role\": \"user\",\n",
    "        \"content\": \"\"\"I will provide you with unstructured text. Please remove all personally identifying information (PII) from the text and replace it with \"---\". \n",
    "Personal information includes names, phone numbers, bank account numbers, social number, home addresses, email addresses, etc.\n",
    "\n",
    "Observe the following rule:\n",
    "\n",
    "1. If the text includes PII, replace it with \"---\".\n",
    "2. If not, copy it word-for-word without replacing anything.\n",
    "\n",
    "Let's practice.\n",
    "\n",
    "<Example>\n",
    "My name is Sujin. And my email address is sujin@the.com, and my phone number is 800-222-1232.\n",
    "</Example> \n",
    "\n",
    "<Expected Output> \n",
    "My name is ---. And my email address is ---@---.com, and my phone number is ---.\n",
    "</Expected Output> \n",
    "\n",
    "However, in reality, people's PII is not written in an orderly fashion. \n",
    "\n",
    "Now, let's start. \n",
    "\n",
    "---\n",
    "<text>\n",
    "1.John Doe, who lives at 742 Evergreen Terrace in Springfield, IL, can be contacted at (555) 123-4567. Born on July 13, 1985, his email address is johndoe@example.com, and his Social Security Number is 123-45-6789.\n",
    "2.Residing at 123 Maple Avenue in Metropolis, NY, Jane Smith’s contact details include her email, janesmith@example.com, and her phone number, (555) 765-4321. Born on March 21, 1990, Jane’s Social Security Number is 987-65-4321.\n",
    "3.Robert Brown was born on September 9, 1975, and can be reached via email at robertbrown@example.com. His Social Security Number is 111-22-3333, and he currently resides at 456 Oak Drive, Gotham City, NJ, with a contact number of (555) 876-5432.\n",
    "4.Emily White’s Social Security Number is 444-55-6666, and she lives at 789 Birch Lane, Star City, CA 90210. You can reach her at emilywhite@example.com, and her phone number is (555) 654-3210. Emily was born on November 19, 2001.\n",
    "5.The phone number for Michael Green is (555) 543-2109, and he can be reached at his email, michaelgreen@example.com. Born on May 5, 1982, he resides at 101 Cedar Street, Central City, TX, and his Social Security Number is 222-33-4444.\n",
    "\n",
    "</text>\"\"\"\n",
    "    }\n",
    "]\n",
    "\n",
    "response = get_completion(messages=message)"
   ]
  },
  {
   "cell_type": "markdown",
   "metadata": {},
   "source": [
    "**3. Then, check the response to ensure all PII has been removed.**"
   ]
  },
  {
   "cell_type": "code",
   "execution_count": null,
   "metadata": {},
   "outputs": [
    {
     "name": "stdout",
     "output_type": "stream",
     "text": [
      "1.---, who lives at --- in ---, IL, can be contacted at ---. Born on ---, 1985, his email address is ---@---.com, and his Social Security Number is ---.\n",
      "2.--- at --- in ---, NY, Jane Smith’s contact details include her email, ---@---.com, and her phone number, ---. Born on ---, 1990, Jane’s Social Security Number is ---.\n",
      "3.--- was born on ---, 1975, and can be reached via email at ---@---.com. His Social Security Number is ---, and he currently resides at ---, ---, NJ, with a contact number of ---.\n",
      "4.---’s Social Security Number is ---, and she lives at ---, ---, CA 90210. You can reach her at ---@---.com, and her phone number is ---. --- was born on ---, 2001.\n",
      "5.The phone number for --- is ---, and he can be reached at his email, ---@---.com. Born on ---, 1982, he resides at ---, ---, TX, and his Social Security Number is ---. \n",
      "\n",
      "\n"
     ]
    }
   ],
   "source": [
    "print(response, \"\\n\\n\")"
   ]
  },
  {
   "cell_type": "markdown",
   "metadata": {},
   "source": [
    "---"
   ]
  },
  {
   "cell_type": "markdown",
   "metadata": {},
   "source": [
    "## **A.4 Complex Prompt : Query Decomposition**"
   ]
  },
  {
   "cell_type": "markdown",
   "metadata": {},
   "source": [
    "We introduce a complex prompt. Using a complex prompt with query decomposition is the most effective in cases where the task requires **multiple steps** or **layered reasoning** to produce a high-quality output. It is especially useful when dealing with:"
   ]
  },
  {
   "cell_type": "markdown",
   "metadata": {},
   "source": [
    "- *Tasks Involving Multiple Inputs and Contexts*,\n",
    "\n",
    "- *Specialized Fields* (e.g., law, medicine, finance),\n",
    "\n",
    "- *Open-Ended Questions*, etc."
   ]
  },
  {
   "cell_type": "markdown",
   "metadata": {},
   "source": [
    "Here, we present some legal research questions that consists of **five components**: "
   ]
  },
  {
   "cell_type": "markdown",
   "metadata": {},
   "source": [
    "- **Primary source document**\n",
    "\n",
    "- **Contextual Query**\n",
    "\n",
    "- **Expert profile**\n",
    "\n",
    "- **Interpretive Layer**\n",
    "\n",
    "- **Source Referencing and Traceability (Citation Guidelines)**"
   ]
  },
  {
   "cell_type": "code",
   "execution_count": null,
   "metadata": {},
   "outputs": [],
   "source": [
    "######################################## SOURCE MATERIALS ########################################\n",
    "# Primary Source Document\n",
    "CASE_LAW_AND_LEGISLATION = \"\"\"\n",
    "The Supreme Court's landmark decision in Carpenter v. United States (2018) significantly impacted digital privacy rights. The Court held that the government's acquisition of cell-site location information (CSLI) constitutes a search under the Fourth Amendment, requiring law enforcement to obtain a warrant. This decision expanded upon previous Fourth Amendment jurisprudence, particularly United States v. Jones (2012) and Riley v. California (2014), which addressed GPS tracking and cell phone searches respectively.\n",
    "In response, Congress introduced the Electronic Privacy Reform Act of 2023, which aims to strengthen digital privacy protections. The Act would require law enforcement agencies to obtain judicial authorization before accessing any stored electronic communications, including emails, text messages, and cloud storage data. This builds upon existing frameworks established by the Electronic Communications Privacy Act of 1986 (ECPA) and the Stored Communications Act (SCA).\n",
    "Several states have also enacted their own digital privacy legislation. California's Privacy Rights Act (CPRA) and Virginia's Consumer Data Protection Act (CDPA) establish comprehensive frameworks for data privacy, including specific provisions for law enforcement access to electronic communications. These state laws often provide stronger protections than federal standards, creating a complex regulatory landscape for both service providers and law enforcement agencies.\n",
    "\"\"\"\n",
    "\n",
    "# Research Query\n",
    "Research_INQUIRY = \"What are the key implications of recent Supreme Court privacy decisions for law enforcement agencies, and how have federal and state legislators responded to balance privacy rights with law enforcement needs\"\n",
    "\n",
    "\n",
    "### PROMPT FRAMEWORK ###\n",
    "\n",
    "##### Framework Component 1: Expert Profile\n",
    "ANALYST_PROFILE = \"You are a highly experienced legal analyst.\"\n",
    "\n",
    "##### Framework Component 2: Communication Guidelines\n",
    "PROFESSIONAL_TONE = \"Respond in a formal, professional tone suitable for legal advising. However, explain the technical terms in a way that's easy for people who aren't familiar with the law to understand.\"\n",
    "\n",
    "##### Framework Component 3: Source Context\n",
    "DOCUMENT_CONTEXT = f\"\"\"Here is some legal text for your review. Use it to answer a question from a client.\n",
    "\n",
    "{CASE_LAW_AND_LEGISLATION}\n",
    "\"\"\"\n",
    "\n",
    "##### Framework Component 4: Citation Guidelines\n",
    "REFERENCE_FORMAT = \"\"\"\n",
    "When referring to the legal text, format citations in brackets like this:\n",
    "\n",
    "Law enforcement must obtain a warrant to access communications. [1].\n",
    "\n",
    "The state legislation is consistent with federal privacy laws. [2].\n",
    "\"\"\"\n",
    "\n",
    "messages = [\n",
    "    {\n",
    "        \"role\": \"user\",\n",
    "        \"content\": Research_INQUIRY\n",
    "    }\n",
    "]\n",
    "\n",
    "response = get_completion(messages, system_prompt=ANALYST_PROFILE+PROFESSIONAL_TONE+DOCUMENT_CONTEXT+REFERENCE_FORMAT)"
   ]
  },
  {
   "cell_type": "markdown",
   "metadata": {},
   "source": [
    "<br>  \n",
    "\n",
    "- And check the result of prompt framework below: "
   ]
  },
  {
   "cell_type": "code",
   "execution_count": null,
   "metadata": {},
   "outputs": [
    {
     "name": "stdout",
     "output_type": "stream",
     "text": [
      "\n",
      "================================================================================\n",
      "LEGAL MEMORANDUM\n",
      "================================================================================\n",
      "\n",
      "The Supreme Court's recent decisions in Carpenter v. United States (2018), United States v. Jones (2012), and Riley v. California (2014) have significantly impacted law enforcement agencies' ability to access digital information. In Carpenter, the Court held that the government's acquisition of cell-site location information (CSLI) constitutes a search under the Fourth Amendment, requiring law enforcement to obtain a warrant [1]. This decision expanded upon previous Fourth Amendment jurisprudence, particularly United States v. Jones, which addressed GPS tracking, and Riley v. California, which dealt with cell phone searches.\n",
      "\n",
      "In response to these decisions, federal and state legislators have introduced and enacted legislation aimed at strengthening digital privacy protections. The Electronic Privacy Reform Act of 2023, introduced in Congress, would require law enforcement agencies to obtain judicial authorization before accessing any stored electronic communications, including emails, text messages, and cloud storage data [2]. This builds upon existing frameworks established by the Electronic Communications Privacy Act of 1986 (ECPA) and the Stored Communications Act (SCA).\n",
      "\n",
      "Several states have also enacted their own digital privacy legislation. California's Privacy Rights Act (CPRA) and Virginia's Consumer Data Protection Act (CDPA) establish comprehensive frameworks for data privacy, including specific provisions for law enforcement access to electronic communications [3]. These state laws often provide stronger protections than federal standards, creating a complex regulatory landscape for both service providers and law enforcement agencies.\n",
      "\n",
      "In summary, recent Supreme Court privacy decisions have limited law enforcement agencies' ability to access digital information without a warrant. Federal and state legislators have responded by introducing and enacting legislation aimed at strengthening digital privacy protections, which may further impact law enforcement agencies' ability to access electronic communications.\n",
      "\n",
      "================================================================================\n",
      "\n",
      "\n",
      "\n"
     ]
    }
   ],
   "source": [
    "# Format and print the response\n",
    "print(\"\\n\" + \"=\"*80)\n",
    "print(\"LEGAL MEMORANDUM\")\n",
    "print(\"=\"*80 + \"\\n\")\n",
    "print(response)\n",
    "print(\"\\n\" + \"=\"*80)\n",
    "\n",
    "# Optional: Save to file\n",
    "def save_memorandum(response, filename=\"legal_memorandum.txt\"):\n",
    "    with open(filename, 'w') as f:\n",
    "        f.write(response)\n",
    "    print(f\"\\nMemorandum saved to {filename}\")\n",
    "\n",
    "print(\"\\n\\n\")"
   ]
  },
  {
   "cell_type": "markdown",
   "metadata": {},
   "source": [
    "- By effectively breaking down queries into structured components, we can guide Solar  to deliver accurate and contextually aware responses. "
   ]
  },
  {
   "cell_type": "markdown",
   "metadata": {},
   "source": [
    "*Next: [Appendix. Use Cases: Prompt Optimization](./11_Appendix.%20Use%20Cases:%20Prompt%20Optimization.ipynb)*"
   ]
  }
 ],
 "metadata": {
  "kernelspec": {
   "display_name": "base",
   "language": "python",
   "name": "python3"
  },
  "language_info": {
   "codemirror_mode": {
    "name": "ipython",
    "version": 3
   },
   "file_extension": ".py",
   "mimetype": "text/x-python",
   "name": "python",
   "nbconvert_exporter": "python",
   "pygments_lexer": "ipython3",
   "version": "3.12.4"
  }
 },
 "nbformat": 4,
 "nbformat_minor": 2
}
